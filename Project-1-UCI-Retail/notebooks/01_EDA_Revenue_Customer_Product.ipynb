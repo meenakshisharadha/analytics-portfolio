{
 "cells": [
  {
   "cell_type": "markdown",
   "id": "b581ba50",
   "metadata": {},
   "source": [
    "## DATA ANALYSIS PORTFOLIO Project 1\n",
    "#### Meenakshi Sharadha A "
   ]
  },
  {
   "cell_type": "code",
   "execution_count": 1,
   "id": "3d8f6ed8",
   "metadata": {},
   "outputs": [],
   "source": [
    "# import libraries\n",
    "import pandas as pd\n",
    "import numpy as np\n",
    "import matplotlib.pyplot as plt\n",
    "import seaborn as sns"
   ]
  },
  {
   "cell_type": "code",
   "execution_count": 2,
   "id": "cedcd071",
   "metadata": {},
   "outputs": [
    {
     "data": {
      "text/html": [
       "<div>\n",
       "<style scoped>\n",
       "    .dataframe tbody tr th:only-of-type {\n",
       "        vertical-align: middle;\n",
       "    }\n",
       "\n",
       "    .dataframe tbody tr th {\n",
       "        vertical-align: top;\n",
       "    }\n",
       "\n",
       "    .dataframe thead th {\n",
       "        text-align: right;\n",
       "    }\n",
       "</style>\n",
       "<table border=\"1\" class=\"dataframe\">\n",
       "  <thead>\n",
       "    <tr style=\"text-align: right;\">\n",
       "      <th></th>\n",
       "      <th>InvoiceNo</th>\n",
       "      <th>StockCode</th>\n",
       "      <th>Description</th>\n",
       "      <th>Quantity</th>\n",
       "      <th>InvoiceDate</th>\n",
       "      <th>UnitPrice</th>\n",
       "      <th>CustomerID</th>\n",
       "      <th>Country</th>\n",
       "    </tr>\n",
       "  </thead>\n",
       "  <tbody>\n",
       "    <tr>\n",
       "      <th>0</th>\n",
       "      <td>536365</td>\n",
       "      <td>85123A</td>\n",
       "      <td>WHITE HANGING HEART T-LIGHT HOLDER</td>\n",
       "      <td>6</td>\n",
       "      <td>2010-12-01 08:26:00</td>\n",
       "      <td>2.55</td>\n",
       "      <td>17850.0</td>\n",
       "      <td>United Kingdom</td>\n",
       "    </tr>\n",
       "    <tr>\n",
       "      <th>1</th>\n",
       "      <td>536365</td>\n",
       "      <td>71053</td>\n",
       "      <td>WHITE METAL LANTERN</td>\n",
       "      <td>6</td>\n",
       "      <td>2010-12-01 08:26:00</td>\n",
       "      <td>3.39</td>\n",
       "      <td>17850.0</td>\n",
       "      <td>United Kingdom</td>\n",
       "    </tr>\n",
       "    <tr>\n",
       "      <th>2</th>\n",
       "      <td>536365</td>\n",
       "      <td>84406B</td>\n",
       "      <td>CREAM CUPID HEARTS COAT HANGER</td>\n",
       "      <td>8</td>\n",
       "      <td>2010-12-01 08:26:00</td>\n",
       "      <td>2.75</td>\n",
       "      <td>17850.0</td>\n",
       "      <td>United Kingdom</td>\n",
       "    </tr>\n",
       "    <tr>\n",
       "      <th>3</th>\n",
       "      <td>536365</td>\n",
       "      <td>84029G</td>\n",
       "      <td>KNITTED UNION FLAG HOT WATER BOTTLE</td>\n",
       "      <td>6</td>\n",
       "      <td>2010-12-01 08:26:00</td>\n",
       "      <td>3.39</td>\n",
       "      <td>17850.0</td>\n",
       "      <td>United Kingdom</td>\n",
       "    </tr>\n",
       "    <tr>\n",
       "      <th>4</th>\n",
       "      <td>536365</td>\n",
       "      <td>84029E</td>\n",
       "      <td>RED WOOLLY HOTTIE WHITE HEART.</td>\n",
       "      <td>6</td>\n",
       "      <td>2010-12-01 08:26:00</td>\n",
       "      <td>3.39</td>\n",
       "      <td>17850.0</td>\n",
       "      <td>United Kingdom</td>\n",
       "    </tr>\n",
       "  </tbody>\n",
       "</table>\n",
       "</div>"
      ],
      "text/plain": [
       "  InvoiceNo StockCode                          Description  Quantity  \\\n",
       "0    536365    85123A   WHITE HANGING HEART T-LIGHT HOLDER         6   \n",
       "1    536365     71053                  WHITE METAL LANTERN         6   \n",
       "2    536365    84406B       CREAM CUPID HEARTS COAT HANGER         8   \n",
       "3    536365    84029G  KNITTED UNION FLAG HOT WATER BOTTLE         6   \n",
       "4    536365    84029E       RED WOOLLY HOTTIE WHITE HEART.         6   \n",
       "\n",
       "          InvoiceDate  UnitPrice  CustomerID         Country  \n",
       "0 2010-12-01 08:26:00       2.55     17850.0  United Kingdom  \n",
       "1 2010-12-01 08:26:00       3.39     17850.0  United Kingdom  \n",
       "2 2010-12-01 08:26:00       2.75     17850.0  United Kingdom  \n",
       "3 2010-12-01 08:26:00       3.39     17850.0  United Kingdom  \n",
       "4 2010-12-01 08:26:00       3.39     17850.0  United Kingdom  "
      ]
     },
     "execution_count": 2,
     "metadata": {},
     "output_type": "execute_result"
    }
   ],
   "source": [
    "# load dataset\n",
    "file_path = r\"C:\\Users\\ameen\\Desktop\\PORTFOLIO\\Online_Retail.xlsx\"\n",
    "df= pd.read_excel(file_path)\n",
    "df.head()"
   ]
  },
  {
   "cell_type": "code",
   "execution_count": 3,
   "id": "83edb8e4",
   "metadata": {},
   "outputs": [
    {
     "name": "stdout",
     "output_type": "stream",
     "text": [
      "<class 'pandas.core.frame.DataFrame'>\n",
      "RangeIndex: 541909 entries, 0 to 541908\n",
      "Data columns (total 8 columns):\n",
      " #   Column       Non-Null Count   Dtype         \n",
      "---  ------       --------------   -----         \n",
      " 0   InvoiceNo    541909 non-null  object        \n",
      " 1   StockCode    541909 non-null  object        \n",
      " 2   Description  540455 non-null  object        \n",
      " 3   Quantity     541909 non-null  int64         \n",
      " 4   InvoiceDate  541909 non-null  datetime64[ns]\n",
      " 5   UnitPrice    541909 non-null  float64       \n",
      " 6   CustomerID   406829 non-null  float64       \n",
      " 7   Country      541909 non-null  object        \n",
      "dtypes: datetime64[ns](1), float64(2), int64(1), object(4)\n",
      "memory usage: 33.1+ MB\n"
     ]
    },
    {
     "data": {
      "text/html": [
       "<div>\n",
       "<style scoped>\n",
       "    .dataframe tbody tr th:only-of-type {\n",
       "        vertical-align: middle;\n",
       "    }\n",
       "\n",
       "    .dataframe tbody tr th {\n",
       "        vertical-align: top;\n",
       "    }\n",
       "\n",
       "    .dataframe thead th {\n",
       "        text-align: right;\n",
       "    }\n",
       "</style>\n",
       "<table border=\"1\" class=\"dataframe\">\n",
       "  <thead>\n",
       "    <tr style=\"text-align: right;\">\n",
       "      <th></th>\n",
       "      <th>Quantity</th>\n",
       "      <th>UnitPrice</th>\n",
       "      <th>CustomerID</th>\n",
       "    </tr>\n",
       "  </thead>\n",
       "  <tbody>\n",
       "    <tr>\n",
       "      <th>count</th>\n",
       "      <td>541909.000000</td>\n",
       "      <td>541909.000000</td>\n",
       "      <td>406829.000000</td>\n",
       "    </tr>\n",
       "    <tr>\n",
       "      <th>mean</th>\n",
       "      <td>9.552250</td>\n",
       "      <td>4.611114</td>\n",
       "      <td>15287.690570</td>\n",
       "    </tr>\n",
       "    <tr>\n",
       "      <th>std</th>\n",
       "      <td>218.081158</td>\n",
       "      <td>96.759853</td>\n",
       "      <td>1713.600303</td>\n",
       "    </tr>\n",
       "    <tr>\n",
       "      <th>min</th>\n",
       "      <td>-80995.000000</td>\n",
       "      <td>-11062.060000</td>\n",
       "      <td>12346.000000</td>\n",
       "    </tr>\n",
       "    <tr>\n",
       "      <th>25%</th>\n",
       "      <td>1.000000</td>\n",
       "      <td>1.250000</td>\n",
       "      <td>13953.000000</td>\n",
       "    </tr>\n",
       "    <tr>\n",
       "      <th>50%</th>\n",
       "      <td>3.000000</td>\n",
       "      <td>2.080000</td>\n",
       "      <td>15152.000000</td>\n",
       "    </tr>\n",
       "    <tr>\n",
       "      <th>75%</th>\n",
       "      <td>10.000000</td>\n",
       "      <td>4.130000</td>\n",
       "      <td>16791.000000</td>\n",
       "    </tr>\n",
       "    <tr>\n",
       "      <th>max</th>\n",
       "      <td>80995.000000</td>\n",
       "      <td>38970.000000</td>\n",
       "      <td>18287.000000</td>\n",
       "    </tr>\n",
       "  </tbody>\n",
       "</table>\n",
       "</div>"
      ],
      "text/plain": [
       "            Quantity      UnitPrice     CustomerID\n",
       "count  541909.000000  541909.000000  406829.000000\n",
       "mean        9.552250       4.611114   15287.690570\n",
       "std       218.081158      96.759853    1713.600303\n",
       "min    -80995.000000  -11062.060000   12346.000000\n",
       "25%         1.000000       1.250000   13953.000000\n",
       "50%         3.000000       2.080000   15152.000000\n",
       "75%        10.000000       4.130000   16791.000000\n",
       "max     80995.000000   38970.000000   18287.000000"
      ]
     },
     "execution_count": 3,
     "metadata": {},
     "output_type": "execute_result"
    }
   ],
   "source": [
    "# Data Inspection\n",
    "df.info()\n",
    "df.describe()"
   ]
  },
  {
   "cell_type": "markdown",
   "id": "41b2a9fd",
   "metadata": {},
   "source": [
    "#### 1. There are no null values\n",
    "#### 2. Customer ID and Description seem to have missing data\n",
    "#### 3. The minimum and maximum values of Quantity and UnitPrice and their standard deviation values show the presence of outliers - will be treated."
   ]
  },
  {
   "cell_type": "code",
   "execution_count": 4,
   "id": "5c75d0da",
   "metadata": {},
   "outputs": [
    {
     "data": {
      "text/plain": [
       "Text(0.5, 1.0, 'Distribution of Quantity')"
      ]
     },
     "execution_count": 4,
     "metadata": {},
     "output_type": "execute_result"
    },
    {
     "data": {
      "image/png": "[encoded data removed]",
      "text/plain": [
       "<Figure size 640x480 with 1 Axes>"
      ]
     },
     "metadata": {},
     "output_type": "display_data"
    }
   ],
   "source": [
    "# Visualising the attribute UnitPrice to view outliers\n",
    "sns.histplot(df['Quantity'], bins=100, kde=False)\n",
    "plt.title(\"Distribution of Quantity\")\n",
    "# plt.xlim(-200, 200)  # Limit x-axis to the main range of values"
   ]
  },
  {
   "cell_type": "code",
   "execution_count": 5,
   "id": "7b2d9cc4",
   "metadata": {},
   "outputs": [
    {
     "data": {
      "text/plain": [
       "<Axes: xlabel='UnitPrice', ylabel='Count'>"
      ]
     },
     "execution_count": 5,
     "metadata": {},
     "output_type": "execute_result"
    },
    {
     "data": {
      "image/png": "[encoded data removed]",
      "text/plain": [
       "<Figure size 640x480 with 1 Axes>"
      ]
     },
     "metadata": {},
     "output_type": "display_data"
    }
   ],
   "source": [
    "# Visualising Quantity attribute to view outliers\n",
    "\n",
    "sns.histplot(df['UnitPrice'], bins=100, kde=False)"
   ]
  },
  {
   "cell_type": "markdown",
   "id": "aafa1d21",
   "metadata": {},
   "source": [
    "#### Clear visibility of extreme values (Outliers) in Quantity and Unit Price. These values will need to be removed so that the analysis carries on smoothly to give meaningful results"
   ]
  },
  {
   "cell_type": "code",
   "execution_count": 6,
   "id": "3318eb10",
   "metadata": {},
   "outputs": [],
   "source": [
    "# Calculate IQR on Quantity\n",
    "q1 = df['Quantity'].quantile(0.25)\n",
    "q3 = df['Quantity'].quantile(0.75)\n",
    "\n",
    "iqr = q3-q1\n",
    "\n",
    "lower_bound = q1-1.5*iqr\n",
    "upper_bound = q3+1.5*iqr\n",
    "\n",
    "\n",
    "df_clean= df[(df['Quantity']>=lower_bound) & (df['Quantity']<=upper_bound)]"
   ]
  },
  {
   "cell_type": "code",
   "execution_count": 7,
   "id": "5b697993",
   "metadata": {},
   "outputs": [
    {
     "name": "stdout",
     "output_type": "stream",
     "text": [
      "Rows before filtering: 541909\n",
      "Rows after filtering: 483290\n",
      "Rows removed: 89.18287018669187\n"
     ]
    }
   ],
   "source": [
    "print(f\"Rows before filtering: {len(df)}\")\n",
    "print(f\"Rows after filtering: {len(df_clean)}\")\n",
    "print(f\"Rows removed: {len(df_clean)/len(df)*100}\")"
   ]
  },
  {
   "cell_type": "markdown",
   "id": "ab1342a0",
   "metadata": {},
   "source": [
    "#### By following the IQR method of removing outliers, 11% of the data in the dataset has been removed - extreme outliers. The same will be followed for Unit Price"
   ]
  },
  {
   "cell_type": "code",
   "execution_count": 8,
   "id": "1d9eca96",
   "metadata": {},
   "outputs": [
    {
     "data": {
      "text/plain": [
       "Text(0.5, 1.0, 'Distribution of Quantity')"
      ]
     },
     "execution_count": 8,
     "metadata": {},
     "output_type": "execute_result"
    },
    {
     "data": {
      "image/png": "[encoded data removed]",
      "text/plain": [
       "<Figure size 640x480 with 1 Axes>"
      ]
     },
     "metadata": {},
     "output_type": "display_data"
    }
   ],
   "source": [
    "# Visualising the attribute UnitPrice to view outliers\n",
    "sns.histplot(df_clean['Quantity'], bins=100, kde=False)\n",
    "plt.title(\"Distribution of Quantity\")\n",
    "# plt.xlim(-200, 200)  # Limit x-axis to the main range of values"
   ]
  },
  {
   "cell_type": "code",
   "execution_count": 9,
   "id": "5a1f0663",
   "metadata": {},
   "outputs": [],
   "source": [
    "df_priceclean = df_clean[df_clean['UnitPrice']>0]"
   ]
  },
  {
   "cell_type": "markdown",
   "id": "da868797",
   "metadata": {},
   "source": [
    "#### First the items with entries of their price below 0 are removed as that is clearly a data error."
   ]
  },
  {
   "cell_type": "code",
   "execution_count": 10,
   "id": "f0be9e11",
   "metadata": {},
   "outputs": [],
   "source": [
    "price_q1 = df_priceclean['UnitPrice'].quantile(0.25)\n",
    "price_q3 = df_priceclean['UnitPrice'].quantile(0.75)\n",
    "\n",
    "iqr = price_q3-price_q1\n",
    "upper_bound = price_q3+1.5*iqr\n",
    "\n",
    "df_cleaned = df_priceclean[df_priceclean['UnitPrice']<=upper_bound]"
   ]
  },
  {
   "cell_type": "code",
   "execution_count": 11,
   "id": "19bb57a1",
   "metadata": {},
   "outputs": [
    {
     "name": "stdout",
     "output_type": "stream",
     "text": [
      "Upper bound for UnitPrice: 8.5\n",
      "Rows before cleaning: 483290\n",
      "Rows after price cleaning: 449480\n"
     ]
    }
   ],
   "source": [
    "print(f\"Upper bound for UnitPrice: {upper_bound}\")\n",
    "print(f\"Rows before cleaning: {len(df_clean)}\")\n",
    "print(f\"Rows after price cleaning: {len(df_cleaned)}\")"
   ]
  },
  {
   "cell_type": "code",
   "execution_count": 12,
   "id": "7ed31830",
   "metadata": {},
   "outputs": [
    {
     "data": {
      "text/plain": [
       "<Axes: xlabel='UnitPrice', ylabel='Count'>"
      ]
     },
     "execution_count": 12,
     "metadata": {},
     "output_type": "execute_result"
    },
    {
     "data": {
      "image/png": "[encoded data removed]",
      "text/plain": [
       "<Figure size 640x480 with 1 Axes>"
      ]
     },
     "metadata": {},
     "output_type": "display_data"
    }
   ],
   "source": [
    "sns.histplot(df_cleaned['UnitPrice'], bins=100, kde=False)\n"
   ]
  },
  {
   "cell_type": "markdown",
   "id": "24706aa9",
   "metadata": {},
   "source": [
    "#### By following the IQR method of removing outliers, a Unit price of 8.5 (upper bound) was chosen. Highly priced itms for unrealisatic and was hence removed. Now the values for Quantity and unit price seem more realistic and would yeild more accurate results upon analysis."
   ]
  },
  {
   "cell_type": "markdown",
   "id": "15d449c0",
   "metadata": {},
   "source": [
    "## EDA"
   ]
  },
  {
   "cell_type": "code",
   "execution_count": 13,
   "id": "62abf4fa",
   "metadata": {},
   "outputs": [
    {
     "data": {
      "text/html": [
       "<div>\n",
       "<style scoped>\n",
       "    .dataframe tbody tr th:only-of-type {\n",
       "        vertical-align: middle;\n",
       "    }\n",
       "\n",
       "    .dataframe tbody tr th {\n",
       "        vertical-align: top;\n",
       "    }\n",
       "\n",
       "    .dataframe thead th {\n",
       "        text-align: right;\n",
       "    }\n",
       "</style>\n",
       "<table border=\"1\" class=\"dataframe\">\n",
       "  <thead>\n",
       "    <tr style=\"text-align: right;\">\n",
       "      <th></th>\n",
       "      <th>InvoiceNo</th>\n",
       "      <th>StockCode</th>\n",
       "      <th>Description</th>\n",
       "      <th>Quantity</th>\n",
       "      <th>InvoiceDate</th>\n",
       "      <th>UnitPrice</th>\n",
       "      <th>CustomerID</th>\n",
       "      <th>Country</th>\n",
       "    </tr>\n",
       "  </thead>\n",
       "  <tbody>\n",
       "    <tr>\n",
       "      <th>0</th>\n",
       "      <td>536365</td>\n",
       "      <td>85123A</td>\n",
       "      <td>WHITE HANGING HEART T-LIGHT HOLDER</td>\n",
       "      <td>6</td>\n",
       "      <td>2010-12-01 08:26:00</td>\n",
       "      <td>2.55</td>\n",
       "      <td>17850.0</td>\n",
       "      <td>United Kingdom</td>\n",
       "    </tr>\n",
       "    <tr>\n",
       "      <th>1</th>\n",
       "      <td>536365</td>\n",
       "      <td>71053</td>\n",
       "      <td>WHITE METAL LANTERN</td>\n",
       "      <td>6</td>\n",
       "      <td>2010-12-01 08:26:00</td>\n",
       "      <td>3.39</td>\n",
       "      <td>17850.0</td>\n",
       "      <td>United Kingdom</td>\n",
       "    </tr>\n",
       "    <tr>\n",
       "      <th>2</th>\n",
       "      <td>536365</td>\n",
       "      <td>84406B</td>\n",
       "      <td>CREAM CUPID HEARTS COAT HANGER</td>\n",
       "      <td>8</td>\n",
       "      <td>2010-12-01 08:26:00</td>\n",
       "      <td>2.75</td>\n",
       "      <td>17850.0</td>\n",
       "      <td>United Kingdom</td>\n",
       "    </tr>\n",
       "    <tr>\n",
       "      <th>3</th>\n",
       "      <td>536365</td>\n",
       "      <td>84029G</td>\n",
       "      <td>KNITTED UNION FLAG HOT WATER BOTTLE</td>\n",
       "      <td>6</td>\n",
       "      <td>2010-12-01 08:26:00</td>\n",
       "      <td>3.39</td>\n",
       "      <td>17850.0</td>\n",
       "      <td>United Kingdom</td>\n",
       "    </tr>\n",
       "    <tr>\n",
       "      <th>4</th>\n",
       "      <td>536365</td>\n",
       "      <td>84029E</td>\n",
       "      <td>RED WOOLLY HOTTIE WHITE HEART.</td>\n",
       "      <td>6</td>\n",
       "      <td>2010-12-01 08:26:00</td>\n",
       "      <td>3.39</td>\n",
       "      <td>17850.0</td>\n",
       "      <td>United Kingdom</td>\n",
       "    </tr>\n",
       "  </tbody>\n",
       "</table>\n",
       "</div>"
      ],
      "text/plain": [
       "  InvoiceNo StockCode                          Description  Quantity  \\\n",
       "0    536365    85123A   WHITE HANGING HEART T-LIGHT HOLDER         6   \n",
       "1    536365     71053                  WHITE METAL LANTERN         6   \n",
       "2    536365    84406B       CREAM CUPID HEARTS COAT HANGER         8   \n",
       "3    536365    84029G  KNITTED UNION FLAG HOT WATER BOTTLE         6   \n",
       "4    536365    84029E       RED WOOLLY HOTTIE WHITE HEART.         6   \n",
       "\n",
       "          InvoiceDate  UnitPrice  CustomerID         Country  \n",
       "0 2010-12-01 08:26:00       2.55     17850.0  United Kingdom  \n",
       "1 2010-12-01 08:26:00       3.39     17850.0  United Kingdom  \n",
       "2 2010-12-01 08:26:00       2.75     17850.0  United Kingdom  \n",
       "3 2010-12-01 08:26:00       3.39     17850.0  United Kingdom  \n",
       "4 2010-12-01 08:26:00       3.39     17850.0  United Kingdom  "
      ]
     },
     "execution_count": 13,
     "metadata": {},
     "output_type": "execute_result"
    }
   ],
   "source": [
    "df_cleaned.describe()\n",
    "df_cleaned.head()"
   ]
  },
  {
   "cell_type": "code",
   "execution_count": 14,
   "id": "dce41a99",
   "metadata": {},
   "outputs": [
    {
     "name": "stdout",
     "output_type": "stream",
     "text": [
      "No. of unique customers:  4206\n",
      "No. of unique countries:  38\n",
      "No. of unique products:  3710\n"
     ]
    }
   ],
   "source": [
    "# Check number of unique customers, countries, products\n",
    "\n",
    "print(\"No. of unique customers: \", df_cleaned['CustomerID'].nunique())\n",
    "print(\"No. of unique countries: \", df_cleaned['Country'].nunique())\n",
    "print(\"No. of unique products: \", df_cleaned['StockCode'].nunique())"
   ]
  },
  {
   "cell_type": "markdown",
   "id": "bc03e357",
   "metadata": {},
   "source": [
    "### 1. Revenue Drivers by Country and Time\n",
    "\n",
    "### Business Question “What are the main drivers of revenue—by time period (seasonality)?”"
   ]
  },
  {
   "cell_type": "code",
   "execution_count": 15,
   "id": "cf61d4bc",
   "metadata": {},
   "outputs": [
    {
     "name": "stderr",
     "output_type": "stream",
     "text": [
      "C:\\Users\\ameen\\AppData\\Local\\Temp\\ipykernel_17736\\2730073515.py:1: SettingWithCopyWarning: \n",
      "A value is trying to be set on a copy of a slice from a DataFrame.\n",
      "Try using .loc[row_indexer,col_indexer] = value instead\n",
      "\n",
      "See the caveats in the documentation: https://pandas.pydata.org/pandas-docs/stable/user_guide/indexing.html#returning-a-view-versus-a-copy\n",
      "  df_cleaned['Revenue']= df_cleaned['Quantity']* df_cleaned['UnitPrice']\n"
     ]
    }
   ],
   "source": [
    "df_cleaned['Revenue']= df_cleaned['Quantity']* df_cleaned['UnitPrice']"
   ]
  },
  {
   "cell_type": "code",
   "execution_count": 16,
   "id": "dc550175",
   "metadata": {},
   "outputs": [
    {
     "data": {
      "text/html": [
       "<div>\n",
       "<style scoped>\n",
       "    .dataframe tbody tr th:only-of-type {\n",
       "        vertical-align: middle;\n",
       "    }\n",
       "\n",
       "    .dataframe tbody tr th {\n",
       "        vertical-align: top;\n",
       "    }\n",
       "\n",
       "    .dataframe thead th {\n",
       "        text-align: right;\n",
       "    }\n",
       "</style>\n",
       "<table border=\"1\" class=\"dataframe\">\n",
       "  <thead>\n",
       "    <tr style=\"text-align: right;\">\n",
       "      <th></th>\n",
       "      <th>InvoiceDate</th>\n",
       "      <th>Revenue</th>\n",
       "      <th>InvoiceNo</th>\n",
       "      <th>CustomerID</th>\n",
       "    </tr>\n",
       "  </thead>\n",
       "  <tbody>\n",
       "    <tr>\n",
       "      <th>0</th>\n",
       "      <td>2010-12-01</td>\n",
       "      <td>364800.390</td>\n",
       "      <td>1636</td>\n",
       "      <td>875</td>\n",
       "    </tr>\n",
       "    <tr>\n",
       "      <th>1</th>\n",
       "      <td>2011-01-01</td>\n",
       "      <td>292840.870</td>\n",
       "      <td>1177</td>\n",
       "      <td>727</td>\n",
       "    </tr>\n",
       "    <tr>\n",
       "      <th>2</th>\n",
       "      <td>2011-02-01</td>\n",
       "      <td>249938.450</td>\n",
       "      <td>1146</td>\n",
       "      <td>731</td>\n",
       "    </tr>\n",
       "    <tr>\n",
       "      <th>3</th>\n",
       "      <td>2011-03-01</td>\n",
       "      <td>322094.100</td>\n",
       "      <td>1549</td>\n",
       "      <td>956</td>\n",
       "    </tr>\n",
       "    <tr>\n",
       "      <th>4</th>\n",
       "      <td>2011-04-01</td>\n",
       "      <td>257307.371</td>\n",
       "      <td>1295</td>\n",
       "      <td>828</td>\n",
       "    </tr>\n",
       "  </tbody>\n",
       "</table>\n",
       "</div>"
      ],
      "text/plain": [
       "  InvoiceDate     Revenue  InvoiceNo  CustomerID\n",
       "0  2010-12-01  364800.390       1636         875\n",
       "1  2011-01-01  292840.870       1177         727\n",
       "2  2011-02-01  249938.450       1146         731\n",
       "3  2011-03-01  322094.100       1549         956\n",
       "4  2011-04-01  257307.371       1295         828"
      ]
     },
     "execution_count": 16,
     "metadata": {},
     "output_type": "execute_result"
    }
   ],
   "source": [
    "# Group by month-year\n",
    "#.dt.to_period('M') will give month with the year\n",
    "# .dt.year will give the month\n",
    "# .dt.month will give the months but if many yeras are there, months will overlap\n",
    "\n",
    "monthly_sales = df_cleaned.groupby(df_cleaned['InvoiceDate'].dt.to_period('M')).agg({\n",
    "    'Revenue': 'sum',\n",
    "    'InvoiceNo': 'nunique',   # number of unique orders\n",
    "    'CustomerID': 'nunique'   # unique customers\n",
    "}).reset_index()\n",
    "\n",
    "monthly_sales['InvoiceDate'] = monthly_sales['InvoiceDate'].dt.to_timestamp()\n",
    "\n",
    "monthly_sales.head()"
   ]
  },
  {
   "cell_type": "code",
   "execution_count": 17,
   "id": "f39983eb",
   "metadata": {},
   "outputs": [
    {
     "data": {
      "image/png": "[encoded data removed]",
      "text/plain": [
       "<Figure size 1200x600 with 1 Axes>"
      ]
     },
     "metadata": {},
     "output_type": "display_data"
    }
   ],
   "source": [
    "plt.figure(figsize=(12,6))\n",
    "sns.lineplot(x='InvoiceDate', y='Revenue', data=monthly_sales, marker='o')\n",
    "plt.title('Monthly Revenue Trend')\n",
    "plt.xlabel('Month')\n",
    "plt.ylabel('Revenue (£)')\n",
    "plt.xticks(rotation=45)\n",
    "plt.tight_layout()\n",
    "plt.show()"
   ]
  },
  {
   "cell_type": "markdown",
   "id": "cfaf3330",
   "metadata": {},
   "source": [
    "#### Examining monthly aggregated revenue to identify any growth patterns, seasonality, or notable fluctuations that influence total revenue. Understanding these trends is crucial for forecasting demand, managing inventory, and planning marketing campaigns."
   ]
  },
  {
   "cell_type": "markdown",
   "id": "229b83c7",
   "metadata": {},
   "source": [
    "### Business Question \"Which countries contribute the most to revenue for the online retailer during 2010–2011?\""
   ]
  },
  {
   "cell_type": "code",
   "execution_count": 18,
   "id": "c90f954c",
   "metadata": {},
   "outputs": [],
   "source": [
    "countryrev = df_cleaned.groupby('Country').agg({\n",
    "    'Revenue':'sum',\n",
    "    'CustomerID':'nunique'\n",
    "}).reset_index()"
   ]
  },
  {
   "cell_type": "code",
   "execution_count": 19,
   "id": "088bd8b8",
   "metadata": {},
   "outputs": [],
   "source": [
    "countryrev = countryrev.sort_values(by='Revenue', ascending = False)"
   ]
  },
  {
   "cell_type": "code",
   "execution_count": 20,
   "id": "a3a45a50",
   "metadata": {},
   "outputs": [
    {
     "data": {
      "text/plain": [
       "Text(0.5, 1.0, 'Top 10 Countries by Total Revenue (2010–2011)')"
      ]
     },
     "execution_count": 20,
     "metadata": {},
     "output_type": "execute_result"
    },
    {
     "data": {
      "image/png": "[encoded data removed]",
      "text/plain": [
       "<Figure size 640x480 with 1 Axes>"
      ]
     },
     "metadata": {},
     "output_type": "display_data"
    }
   ],
   "source": [
    "countryrev=countryrev.head(10)\n",
    "sns.barplot(data=countryrev, y='Country', x='Revenue')\n",
    "plt.title('Top 10 Countries by Total Revenue (2010–2011)')\n"
   ]
  },
  {
   "cell_type": "markdown",
   "id": "4d389de8",
   "metadata": {},
   "source": [
    "#### The top 3 countries by revenue are typically the UK, Germany and France. The UK often dominates as it is where the business is based, but regional leaders may vary. Lower-revenue countries like Portugal, Norway and Netherlands may represent emerging markets or opportunities for expansion."
   ]
  },
  {
   "cell_type": "markdown",
   "id": "8b7e3c08",
   "metadata": {},
   "source": [
    "### Drill Down: Revenue by Month in Top Countries (Seasonality by Country)"
   ]
  },
  {
   "cell_type": "code",
   "execution_count": 36,
   "id": "094e09f5",
   "metadata": {},
   "outputs": [
    {
     "data": {
      "text/html": [
       "<div>\n",
       "<style scoped>\n",
       "    .dataframe tbody tr th:only-of-type {\n",
       "        vertical-align: middle;\n",
       "    }\n",
       "\n",
       "    .dataframe tbody tr th {\n",
       "        vertical-align: top;\n",
       "    }\n",
       "\n",
       "    .dataframe thead th {\n",
       "        text-align: right;\n",
       "    }\n",
       "</style>\n",
       "<table border=\"1\" class=\"dataframe\">\n",
       "  <thead>\n",
       "    <tr style=\"text-align: right;\">\n",
       "      <th></th>\n",
       "      <th>InvoiceDate</th>\n",
       "      <th>Country</th>\n",
       "      <th>Revenue</th>\n",
       "    </tr>\n",
       "  </thead>\n",
       "  <tbody>\n",
       "    <tr>\n",
       "      <th>0</th>\n",
       "      <td>2010-12</td>\n",
       "      <td>France</td>\n",
       "      <td>5337.06</td>\n",
       "    </tr>\n",
       "    <tr>\n",
       "      <th>1</th>\n",
       "      <td>2010-12</td>\n",
       "      <td>Germany</td>\n",
       "      <td>6754.15</td>\n",
       "    </tr>\n",
       "    <tr>\n",
       "      <th>2</th>\n",
       "      <td>2010-12</td>\n",
       "      <td>United Kingdom</td>\n",
       "      <td>336840.45</td>\n",
       "    </tr>\n",
       "    <tr>\n",
       "      <th>3</th>\n",
       "      <td>2011-01</td>\n",
       "      <td>France</td>\n",
       "      <td>9293.75</td>\n",
       "    </tr>\n",
       "    <tr>\n",
       "      <th>4</th>\n",
       "      <td>2011-01</td>\n",
       "      <td>Germany</td>\n",
       "      <td>9586.19</td>\n",
       "    </tr>\n",
       "    <tr>\n",
       "      <th>5</th>\n",
       "      <td>2011-01</td>\n",
       "      <td>United Kingdom</td>\n",
       "      <td>252571.27</td>\n",
       "    </tr>\n",
       "    <tr>\n",
       "      <th>6</th>\n",
       "      <td>2011-02</td>\n",
       "      <td>France</td>\n",
       "      <td>5621.27</td>\n",
       "    </tr>\n",
       "    <tr>\n",
       "      <th>7</th>\n",
       "      <td>2011-02</td>\n",
       "      <td>Germany</td>\n",
       "      <td>4507.76</td>\n",
       "    </tr>\n",
       "    <tr>\n",
       "      <th>8</th>\n",
       "      <td>2011-02</td>\n",
       "      <td>United Kingdom</td>\n",
       "      <td>222086.21</td>\n",
       "    </tr>\n",
       "    <tr>\n",
       "      <th>9</th>\n",
       "      <td>2011-03</td>\n",
       "      <td>France</td>\n",
       "      <td>6034.45</td>\n",
       "    </tr>\n",
       "  </tbody>\n",
       "</table>\n",
       "</div>"
      ],
      "text/plain": [
       "  InvoiceDate         Country    Revenue\n",
       "0     2010-12          France    5337.06\n",
       "1     2010-12         Germany    6754.15\n",
       "2     2010-12  United Kingdom  336840.45\n",
       "3     2011-01          France    9293.75\n",
       "4     2011-01         Germany    9586.19\n",
       "5     2011-01  United Kingdom  252571.27\n",
       "6     2011-02          France    5621.27\n",
       "7     2011-02         Germany    4507.76\n",
       "8     2011-02  United Kingdom  222086.21\n",
       "9     2011-03          France    6034.45"
      ]
     },
     "execution_count": 36,
     "metadata": {},
     "output_type": "execute_result"
    }
   ],
   "source": [
    "# country | revenue\n",
    "\n",
    "topcountries = countryrev['Country'].head(3).to_list()\n",
    "topcountriesonly = df_cleaned[df_cleaned['Country'].isin(topcountries)]\n",
    "revbymonth = (topcountriesonly.groupby([topcountriesonly['InvoiceDate'].dt.to_period('M'),'Country'])\n",
    "['Revenue'].sum().reset_index())\n",
    "revbymonth.head(10)\n"
   ]
  },
  {
   "cell_type": "code",
   "execution_count": 37,
   "id": "7a5050b0",
   "metadata": {},
   "outputs": [
    {
     "data": {
      "image/png": "[encoded data removed]",
      "text/plain": [
       "<Figure size 640x480 with 1 Axes>"
      ]
     },
     "metadata": {},
     "output_type": "display_data"
    }
   ],
   "source": [
    "revbymonth['InvoiceDate'] = revbymonth['InvoiceDate'].dt.to_timestamp()\n",
    "sns.lineplot(\n",
    "    data=revbymonth,\n",
    "    x='InvoiceDate', y='Revenue', hue='Country', marker='o'\n",
    ")\n",
    "plt.xticks(rotation=45)\n",
    "plt.tight_layout()\n",
    "plt.title('Monthly Revenue Trends for Top Countries')\n",
    "plt.show()"
   ]
  },
  {
   "cell_type": "markdown",
   "id": "ac1ffbde",
   "metadata": {},
   "source": [
    "### Top Products by Revenue"
   ]
  },
  {
   "cell_type": "code",
   "execution_count": 39,
   "id": "af69b154",
   "metadata": {},
   "outputs": [
    {
     "data": {
      "text/html": [
       "<div>\n",
       "<style scoped>\n",
       "    .dataframe tbody tr th:only-of-type {\n",
       "        vertical-align: middle;\n",
       "    }\n",
       "\n",
       "    .dataframe tbody tr th {\n",
       "        vertical-align: top;\n",
       "    }\n",
       "\n",
       "    .dataframe thead th {\n",
       "        text-align: right;\n",
       "    }\n",
       "</style>\n",
       "<table border=\"1\" class=\"dataframe\">\n",
       "  <thead>\n",
       "    <tr style=\"text-align: right;\">\n",
       "      <th></th>\n",
       "      <th>Description</th>\n",
       "      <th>Revenue</th>\n",
       "    </tr>\n",
       "  </thead>\n",
       "  <tbody>\n",
       "    <tr>\n",
       "      <th>0</th>\n",
       "      <td>PARTY BUNTING</td>\n",
       "      <td>34024.68</td>\n",
       "    </tr>\n",
       "    <tr>\n",
       "      <th>1</th>\n",
       "      <td>WHITE HANGING HEART T-LIGHT HOLDER</td>\n",
       "      <td>33820.47</td>\n",
       "    </tr>\n",
       "    <tr>\n",
       "      <th>2</th>\n",
       "      <td>JUMBO BAG RED RETROSPOT</td>\n",
       "      <td>32060.26</td>\n",
       "    </tr>\n",
       "    <tr>\n",
       "      <th>3</th>\n",
       "      <td>JAM MAKING SET WITH JARS</td>\n",
       "      <td>23045.26</td>\n",
       "    </tr>\n",
       "    <tr>\n",
       "      <th>4</th>\n",
       "      <td>SPOTTY BUNTING</td>\n",
       "      <td>22550.20</td>\n",
       "    </tr>\n",
       "    <tr>\n",
       "      <th>5</th>\n",
       "      <td>DOORMAT KEEP CALM AND COME IN</td>\n",
       "      <td>20789.41</td>\n",
       "    </tr>\n",
       "    <tr>\n",
       "      <th>6</th>\n",
       "      <td>PAPER CHAIN KIT 50'S CHRISTMAS</td>\n",
       "      <td>20222.26</td>\n",
       "    </tr>\n",
       "    <tr>\n",
       "      <th>7</th>\n",
       "      <td>NATURAL SLATE HEART CHALKBOARD</td>\n",
       "      <td>20114.16</td>\n",
       "    </tr>\n",
       "    <tr>\n",
       "      <th>8</th>\n",
       "      <td>LUNCH BAG RED RETROSPOT</td>\n",
       "      <td>19581.68</td>\n",
       "    </tr>\n",
       "    <tr>\n",
       "      <th>9</th>\n",
       "      <td>ASSORTED COLOUR BIRD ORNAMENT</td>\n",
       "      <td>19194.62</td>\n",
       "    </tr>\n",
       "  </tbody>\n",
       "</table>\n",
       "</div>"
      ],
      "text/plain": [
       "                          Description   Revenue\n",
       "0                       PARTY BUNTING  34024.68\n",
       "1  WHITE HANGING HEART T-LIGHT HOLDER  33820.47\n",
       "2             JUMBO BAG RED RETROSPOT  32060.26\n",
       "3            JAM MAKING SET WITH JARS  23045.26\n",
       "4                      SPOTTY BUNTING  22550.20\n",
       "5       DOORMAT KEEP CALM AND COME IN  20789.41\n",
       "6     PAPER CHAIN KIT 50'S CHRISTMAS   20222.26\n",
       "7     NATURAL SLATE HEART CHALKBOARD   20114.16\n",
       "8             LUNCH BAG RED RETROSPOT  19581.68\n",
       "9       ASSORTED COLOUR BIRD ORNAMENT  19194.62"
      ]
     },
     "execution_count": 39,
     "metadata": {},
     "output_type": "execute_result"
    }
   ],
   "source": [
    "topproducts = df_cleaned.groupby('Description')['Revenue'].sum().sort_values(ascending = False).reset_index()\n",
    "topproducts.head(10)"
   ]
  },
  {
   "cell_type": "markdown",
   "id": "ca91801b",
   "metadata": {},
   "source": [
    "The top 10 products contributed disproportionately to total sales—a clear opportunity for focused stocking and targeted marketing campaigns around these bestsellers."
   ]
  },
  {
   "cell_type": "markdown",
   "id": "7a511395",
   "metadata": {},
   "source": [
    "## 2. Customer Segmentation\n",
    "### Business Question 1. Which customer segments (e.g., top spenders, one-time buyers, loyal repeaters) contribute most to revenue? How can we better retain and upsell them?"
   ]
  },
  {
   "cell_type": "code",
   "execution_count": 40,
   "id": "9ee17016",
   "metadata": {},
   "outputs": [],
   "source": [
    "df_customers = df_cleaned[~df_cleaned['CustomerID'].isnull()].copy()"
   ]
  },
  {
   "cell_type": "markdown",
   "id": "f4d940dc",
   "metadata": {},
   "source": [
    "#### Calculate Recency, Frequency, and Monetary (RFM) for Each Customer"
   ]
  },
  {
   "cell_type": "code",
   "execution_count": null,
   "id": "b9fbb944",
   "metadata": {},
   "outputs": [],
   "source": []
  },
  {
   "cell_type": "code",
   "execution_count": null,
   "id": "e3401961",
   "metadata": {},
   "outputs": [],
   "source": []
  },
  {
   "cell_type": "code",
   "execution_count": null,
   "id": "225f6c20",
   "metadata": {},
   "outputs": [],
   "source": []
  },
  {
   "cell_type": "code",
   "execution_count": null,
   "id": "8da2d698",
   "metadata": {},
   "outputs": [],
   "source": []
  },
  {
   "cell_type": "code",
   "execution_count": null,
   "id": "99981962",
   "metadata": {},
   "outputs": [],
   "source": []
  },
  {
   "cell_type": "code",
   "execution_count": null,
   "id": "e72a65b5",
   "metadata": {},
   "outputs": [],
   "source": []
  },
  {
   "cell_type": "code",
   "execution_count": null,
   "id": "761d66ef",
   "metadata": {},
   "outputs": [],
   "source": []
  },
  {
   "cell_type": "code",
   "execution_count": null,
   "id": "b8bbafa7",
   "metadata": {},
   "outputs": [],
   "source": []
  },
  {
   "cell_type": "code",
   "execution_count": null,
   "id": "5318f042",
   "metadata": {},
   "outputs": [],
   "source": []
  },
  {
   "cell_type": "code",
   "execution_count": null,
   "id": "05581b18",
   "metadata": {},
   "outputs": [],
   "source": []
  },
  {
   "cell_type": "code",
   "execution_count": null,
   "id": "57d2d504",
   "metadata": {},
   "outputs": [],
   "source": []
  },
  {
   "cell_type": "code",
   "execution_count": null,
   "id": "703375e1",
   "metadata": {},
   "outputs": [],
   "source": []
  },
  {
   "cell_type": "code",
   "execution_count": null,
   "id": "044de9d9",
   "metadata": {},
   "outputs": [],
   "source": []
  },
  {
   "cell_type": "code",
   "execution_count": null,
   "id": "4dec1f07",
   "metadata": {},
   "outputs": [],
   "source": []
  },
  {
   "cell_type": "code",
   "execution_count": null,
   "id": "fc3a47be",
   "metadata": {},
   "outputs": [],
   "source": []
  },
  {
   "cell_type": "code",
   "execution_count": null,
   "id": "9ee3f8b2",
   "metadata": {},
   "outputs": [],
   "source": []
  },
  {
   "cell_type": "code",
   "execution_count": null,
   "id": "d992fb07",
   "metadata": {},
   "outputs": [],
   "source": []
  },
  {
   "cell_type": "code",
   "execution_count": null,
   "id": "545e60c4",
   "metadata": {},
   "outputs": [],
   "source": []
  },
  {
   "cell_type": "code",
   "execution_count": null,
   "id": "7ea0fa55",
   "metadata": {},
   "outputs": [],
   "source": []
  },
  {
   "cell_type": "code",
   "execution_count": null,
   "id": "b500977b",
   "metadata": {},
   "outputs": [],
   "source": []
  },
  {
   "cell_type": "code",
   "execution_count": null,
   "id": "7fe771c5",
   "metadata": {},
   "outputs": [],
   "source": []
  },
  {
   "cell_type": "code",
   "execution_count": null,
   "id": "91f9f731",
   "metadata": {},
   "outputs": [],
   "source": []
  },
  {
   "cell_type": "code",
   "execution_count": null,
   "id": "f49a9864",
   "metadata": {},
   "outputs": [],
   "source": []
  },
  {
   "cell_type": "code",
   "execution_count": null,
   "id": "315beae0",
   "metadata": {},
   "outputs": [],
   "source": []
  },
  {
   "cell_type": "code",
   "execution_count": null,
   "id": "24272891",
   "metadata": {},
   "outputs": [],
   "source": []
  },
  {
   "cell_type": "code",
   "execution_count": null,
   "id": "dd43e7a0",
   "metadata": {},
   "outputs": [],
   "source": []
  },
  {
   "cell_type": "code",
   "execution_count": null,
   "id": "23b2d0a9",
   "metadata": {},
   "outputs": [],
   "source": []
  },
  {
   "cell_type": "code",
   "execution_count": null,
   "id": "8b6baddf",
   "metadata": {},
   "outputs": [],
   "source": []
  },
  {
   "cell_type": "code",
   "execution_count": null,
   "id": "fc592d4f",
   "metadata": {},
   "outputs": [],
   "source": []
  },
  {
   "cell_type": "code",
   "execution_count": null,
   "id": "4da46385",
   "metadata": {},
   "outputs": [],
   "source": []
  },
  {
   "cell_type": "code",
   "execution_count": null,
   "id": "acc9bcbf",
   "metadata": {},
   "outputs": [],
   "source": []
  },
  {
   "cell_type": "code",
   "execution_count": null,
   "id": "e937041e",
   "metadata": {},
   "outputs": [],
   "source": []
  }
 ],
 "metadata": {
  "kernelspec": {
   "display_name": "Python 3 (ipykernel)",
   "language": "python",
   "name": "python3"
  },
  "language_info": {
   "codemirror_mode": {
    "name": "ipython",
    "version": 3
   },
   "file_extension": ".py",
   "mimetype": "text/x-python",
   "name": "python",
   "nbconvert_exporter": "python",
   "pygments_lexer": "ipython3",
   "version": "3.11.4"
  }
 },
 "nbformat": 4,
 "nbformat_minor": 5
}
